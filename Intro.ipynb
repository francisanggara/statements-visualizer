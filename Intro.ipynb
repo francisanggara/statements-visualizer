{
 "cells": [
  {
   "cell_type": "markdown",
   "id": "3a69ff6d-2450-4505-b019-41f589425529",
   "metadata": {},
   "source": [
    "<h1 style=\"color:green\"> <u>Financial Statements Visualizer</u></h1>\n",
    "This notebook formats UWCU and Visa monthly statements into pie graphs and tables where data can be easily viewed.\n",
    "\n",
    "This notebook does the following:\n",
    "\n",
    "- Asks for a filename of a *veeeery* particularly formatted .csv\n",
    "- Asks if the user wants to add another\n",
    "- Asks if the user wants to look at spending or income\n",
    "- Asks if the user wants a date range\n",
    "- Asks if the user wants to filter out any categories\n",
    "\n",
    "- Returns a pie graph using the data given from the above requests\n",
    "- Returns a table of the values used and the totals of each category\n",
    "\n"
   ]
  },
  {
   "cell_type": "code",
   "execution_count": null,
   "id": "eb1af4db-30a0-45b3-9aaa-66745d57b229",
   "metadata": {},
   "outputs": [],
   "source": []
  }
 ],
 "metadata": {
  "kernelspec": {
   "display_name": "Python [conda env:base] *",
   "language": "python",
   "name": "conda-base-py"
  },
  "language_info": {
   "codemirror_mode": {
    "name": "ipython",
    "version": 3
   },
   "file_extension": ".py",
   "mimetype": "text/x-python",
   "name": "python",
   "nbconvert_exporter": "python",
   "pygments_lexer": "ipython3",
   "version": "3.10.12"
  }
 },
 "nbformat": 4,
 "nbformat_minor": 5
}
